{
 "metadata": {
  "language_info": {
   "codemirror_mode": {
    "name": "ipython",
    "version": 3
   },
   "file_extension": ".py",
   "mimetype": "text/x-python",
   "name": "python",
   "nbconvert_exporter": "python",
   "pygments_lexer": "ipython3",
   "version": 3
  },
  "orig_nbformat": 2
 },
 "nbformat": 4,
 "nbformat_minor": 2,
 "cells": [
  {
   "source": [
    "# Training Report\n",
    "\n",
    "Much wow - very A.I."
   ],
   "cell_type": "markdown",
   "metadata": {}
  },
  {
   "cell_type": "code",
   "execution_count": null,
   "metadata": {},
   "outputs": [],
   "source": [
    "from sklearn.ensemble import RandomForestClassifier\n",
    "from sklearn.metrics import plot_confusion_matrix\n",
    "import matplotlib.pyplot as plt\n",
    "import json\n",
    "import os\n",
    "import numpy as np\n",
    "import joblib\n",
    "\n",
    "clf = joblib.load(\"data/clf.joblib\")\n",
    "\n",
    "X_test = np.genfromtxt(\"data/test_features.csv\")\n",
    "y_test = np.genfromtxt(\"data/test_labels.csv\")\n",
    "\n",
    "\n",
    "acc = clf.score(X_test, y_test)\n",
    "print(acc)\n",
    "with open(\"metrics.txt\", 'w') as outfile:\n",
    "        outfile.write(\"Accuracy: \" + str(acc) + \"\\n\")\n",
    "\n",
    "\n",
    "# Plot it\n",
    "disp = plot_confusion_matrix(clf, X_test, y_test, normalize='true',cmap=plt.cm.Blues)\n",
    "plt.savefig('confusion_matrix.png')\n"
   ]
  },
  {
   "source": [
    "## Confuse?"
   ],
   "cell_type": "markdown",
   "metadata": {}
  },
  {
   "cell_type": "code",
   "execution_count": null,
   "metadata": {},
   "outputs": [],
   "source": [
    "disp"
   ]
  }
 ]
}